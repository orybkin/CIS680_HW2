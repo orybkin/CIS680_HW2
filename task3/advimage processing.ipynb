{
 "cells": [
  {
   "cell_type": "code",
   "execution_count": 64,
   "metadata": {
    "collapsed": true,
    "deletable": true,
    "editable": true
   },
   "outputs": [],
   "source": [
    "import cv2\n",
    "import numpy as np\n",
    "import matplotlib.pyplot as plt\n",
    "from shutil import copyfile\n",
    "\n",
    "%matplotlib inline\n",
    "\n",
    "classes={0:'airplane',\n",
    "1:'automobile',\n",
    "2:'bird',\n",
    "3:'cat',\n",
    "4:'deer',\n",
    "5:'dog',\n",
    "6:'frog',\n",
    "7:'horse',\n",
    "8:'ship',\n",
    "9:'truck'}"
   ]
  },
  {
   "cell_type": "code",
   "execution_count": 88,
   "metadata": {
    "collapsed": false,
    "deletable": true,
    "editable": true
   },
   "outputs": [],
   "source": [
    "\n",
    "mod_lab=np.loadtxt('perturbed_data/new_labels')\n",
    "mod_con=np.loadtxt('perturbed_data/new_confidences')\n",
    "ori_lab=np.loadtxt('perturbed_data/labels')\n",
    "ori_con=np.loadtxt('perturbed_data/confidences')"
   ]
  },
  {
   "cell_type": "code",
   "execution_count": 96,
   "metadata": {
    "collapsed": false,
    "deletable": true,
    "editable": true
   },
   "outputs": [],
   "source": [
    "\n",
    "(mod_lab==ori_lab).sum()\n",
    "np.median(mod_con)\n",
    "(mod_con>0.99).sum()\n",
    "good=(mod_con>0.99) & (ori_con>0.50)\n",
    "good.sum()\n",
    "np.unique(ori_lab[good])\n",
    "# np.unique(mod_lab[good])\n",
    "#ori_lab[good]\n",
    "good_idx=np.where(good)[0]"
   ]
  },
  {
   "cell_type": "code",
   "execution_count": 119,
   "metadata": {
    "collapsed": false,
    "deletable": true,
    "editable": true
   },
   "outputs": [],
   "source": [
    "#!mkdir selected_imgs\n",
    "final_idx=np.zeros(20, dtype=int)\n",
    "for label in range(10):\n",
    "    idx=(ori_lab[good]==label)\n",
    "#     print(idx)\n",
    "    if idx.sum()<2: raise Exception('not enough images for this label')\n",
    "    idx=np.where(idx)[0]\n",
    "#     print(idx)\n",
    "    con_sort=np.flip(ori_con[good_idx[idx]].argsort(),axis=0)\n",
    "    idx=idx[con_sort]\n",
    "#     print(idx)\n",
    "    for i in range(2):\n",
    "        copyfile('perturbed_imgs/'+str(good_idx[idx[i]])+'_modified.png', \n",
    "                  'selected_imgs/'+str(2*label+(i))+'_modified.png')\n",
    "        copyfile('perturbed_imgs/'+str(good_idx[idx[i]])+'_original.png',\n",
    "                  'selected_imgs/'+str(2*label+(i))+'_original.png')\n",
    "        final_idx[2*label+(i)]=good_idx[idx[i]]"
   ]
  },
  {
   "cell_type": "code",
   "execution_count": 122,
   "metadata": {
    "collapsed": false,
    "deletable": true,
    "editable": true
   },
   "outputs": [
    {
     "name": "stdout",
     "output_type": "stream",
     "text": [
      "[ 0.  0.  1.  1.  2.  2.  3.  3.  4.  4.  5.  5.  6.  6.  7.  7.  8.  8.\n",
      "  9.  9.]\n",
      "[ 8.  8.  8.  9.  4.  0.  7.  7.  7.  7.  7.  6.  4.  9.  9.  9.  9.  9.\n",
      "  8.  1.]\n",
      "[ 0.99925941  0.99603707  0.99713081  0.99522543  0.94232315  0.87075555\n",
      "  0.91071475  0.88711876  0.96952224  0.94690043  0.79756457  0.79297543\n",
      "  0.99810398  0.99293488  0.99429542  0.97991848  0.99927574  0.99706393\n",
      "  0.97863436  0.97782862]\n",
      "[ 0.99566841  0.99599373  0.99153674  0.99549663  0.99134821  0.99444526\n",
      "  0.99926406  0.99212354  0.99501234  0.99708849  0.99476308  0.99470574\n",
      "  0.99305832  0.99318552  0.99536717  0.99888498  0.99949837  0.9972856\n",
      "  0.99478167  0.99547172]\n",
      "ship\n",
      "ship\n",
      "ship\n",
      "truck\n",
      "deer\n",
      "airplane\n",
      "horse\n",
      "horse\n",
      "horse\n",
      "horse\n",
      "horse\n",
      "frog\n",
      "deer\n",
      "truck\n",
      "truck\n",
      "truck\n",
      "truck\n",
      "truck\n",
      "ship\n",
      "automobile\n"
     ]
    }
   ],
   "source": [
    "print(ori_lab[final_idx])\n",
    "print(mod_lab[final_idx])\n",
    "print(ori_con[final_idx])\n",
    "print(mod_con[final_idx])\n",
    "classes={0:'airplane',\n",
    "1:'automobile',\n",
    "2:'bird',\n",
    "3:'cat',\n",
    "4:'deer',\n",
    "5:'dog',\n",
    "6:'frog',\n",
    "7:'horse',\n",
    "8:'ship',\n",
    "9:'truck'}\n",
    "for i in range(20):\n",
    "    print(classes[mod_lab[final_idx][i]])\n",
    "    #print(classes[ori_lab[final_idx][i]])"
   ]
  },
  {
   "cell_type": "code",
   "execution_count": 34,
   "metadata": {
    "collapsed": false,
    "deletable": true,
    "editable": true
   },
   "outputs": [
    {
     "data": {
      "text/plain": [
       "(array([ 0,  1,  2,  3,  4,  5,  6,  7,  8,  9, 10, 11, 12, 13, 14, 15, 16]),)"
      ]
     },
     "execution_count": 34,
     "metadata": {},
     "output_type": "execute_result"
    }
   ],
   "source": [
    "idx=ori_lab[good]==0\n",
    "np.where(idx)   "
   ]
  },
  {
   "cell_type": "code",
   "execution_count": 127,
   "metadata": {
    "collapsed": false,
    "deletable": true,
    "editable": true
   },
   "outputs": [
    {
     "data": {
      "text/plain": [
       "array([0, 0, 1, 1, 2, 2, 3, 3, 4, 4, 5, 5, 6, 6, 7, 7, 8, 8, 9, 9])"
      ]
     },
     "execution_count": 127,
     "metadata": {},
     "output_type": "execute_result"
    }
   ],
   "source": []
  },
  {
   "cell_type": "code",
   "execution_count": 1,
   "metadata": {
    "collapsed": true,
    "deletable": true,
    "editable": true
   },
   "outputs": [],
   "source": []
  },
  {
   "cell_type": "code",
   "execution_count": 82,
   "metadata": {
    "collapsed": false,
    "deletable": true,
    "editable": true
   },
   "outputs": [
    {
     "data": {
      "text/plain": [
       "array([3, 2, 1, 0])"
      ]
     },
     "execution_count": 82,
     "metadata": {},
     "output_type": "execute_result"
    }
   ],
   "source": [
    "np.flip(np.array([1,2,3,4]).argsort(),axis=0)"
   ]
  }
 ],
 "metadata": {
  "kernelspec": {
   "display_name": "py35",
   "language": "python",
   "name": "py35"
  },
  "language_info": {
   "codemirror_mode": {
    "name": "ipython",
    "version": 3
   },
   "file_extension": ".py",
   "mimetype": "text/x-python",
   "name": "python",
   "nbconvert_exporter": "python",
   "pygments_lexer": "ipython3",
   "version": "3.5.2"
  }
 },
 "nbformat": 4,
 "nbformat_minor": 2
}

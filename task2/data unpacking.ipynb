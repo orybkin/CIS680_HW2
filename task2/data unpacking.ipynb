{
 "cells": [
  {
   "cell_type": "code",
   "execution_count": 2,
   "metadata": {
    "collapsed": true
   },
   "outputs": [],
   "source": [
    "def unpickle(file):\n",
    "    import cPickle\n",
    "    with open(file, 'rb') as fo:\n",
    "        dict = cPickle.load(fo)\n",
    "    return dict"
   ]
  },
  {
   "cell_type": "code",
   "execution_count": 3,
   "metadata": {
    "collapsed": true
   },
   "outputs": [],
   "source": []
  },
  {
   "cell_type": "code",
   "execution_count": 31,
   "metadata": {},
   "outputs": [],
   "source": [
    "unpckl= unpickle('devkit/data_batch_1')\n",
    "data=unpckl['data']\n",
    "labels=unpckl['labels']\n",
    "label=unpckl['batch_label']\n",
    "filenames=unpckl['filenames']\n",
    "\n",
    "for i in xrange(10000):\n",
    "    imm=np.array(data[i]).reshape([3,32,32]).transpose(1,2,0)\n",
    "    #plt.imshow(imm)\n",
    "    cv2.imwrite('imgs/'+filenames[i],np.flip(imm, axis=2))\n",
    "    \n",
    "f = open('devkit/train.txt', 'w')\n",
    "for i in xrange(10000):\n",
    "    f.write(filenames[i] +  ' ' + str(labels[i]) + '\\n')\n",
    "f.close()\n"
   ]
  },
  {
   "cell_type": "code",
   "execution_count": 32,
   "metadata": {},
   "outputs": [],
   "source": [
    "unpckl= unpickle('devkit/test_batch')\n",
    "data=unpckl['data']\n",
    "labels=unpckl['labels']\n",
    "label=unpckl['batch_label']\n",
    "filenames=unpckl['filenames']\n",
    "\n",
    "for i in xrange(10000):\n",
    "    imm=np.array(data[i]).reshape([3,32,32]).transpose(1,2,0)\n",
    "    #plt.imshow(imm)\n",
    "    cv2.imwrite('imgs/'+filenames[i],np.flip(imm, axis=2))\n",
    "    \n",
    "f = open('devkit/test.txt', 'w')\n",
    "for i in xrange(10000):\n",
    "    f.write(filenames[i] +  ' ' + str(labels[i]) + '\\n')\n",
    "f.close()"
   ]
  },
  {
   "cell_type": "code",
   "execution_count": 21,
   "metadata": {},
   "outputs": [
    {
     "data": {
      "text/plain": [
       "'camion_s_000148.png 9'"
      ]
     },
     "execution_count": 21,
     "metadata": {},
     "output_type": "execute_result"
    }
   ],
   "source": [
    "i=1\n",
    "filenames[i] + ' ' + str(labels[i])"
   ]
  },
  {
   "cell_type": "code",
   "execution_count": 8,
   "metadata": {},
   "outputs": [
    {
     "name": "stdout",
     "output_type": "stream",
     "text": [
      "21\n"
     ]
    }
   ],
   "source": [
    "\n",
    "cv2.imwrite(\"filename.png\", np.zeros((10,10)))"
   ]
  },
  {
   "cell_type": "code",
   "execution_count": null,
   "metadata": {
    "collapsed": true
   },
   "outputs": [],
   "source": []
  },
  {
   "cell_type": "code",
   "execution_count": 5,
   "metadata": {
    "collapsed": true
   },
   "outputs": [],
   "source": [
    "import cv2\n",
    "import numpy as np\n",
    "import matplotlib.pyplot as plt\n",
    "%matplotlib inline"
   ]
  },
  {
   "cell_type": "code",
   "execution_count": 12,
   "metadata": {},
   "outputs": [
    {
     "data": {
      "text/plain": [
       "['data', 'labels', 'batch_label', 'filenames']"
      ]
     },
     "execution_count": 12,
     "metadata": {},
     "output_type": "execute_result"
    }
   ],
   "source": [
    "unpickle('devkit/data_batch_1').keys()"
   ]
  }
 ],
 "metadata": {
  "kernelspec": {
   "display_name": "Python p2",
   "language": "python",
   "name": "p2"
  },
  "language_info": {
   "codemirror_mode": {
    "name": "ipython",
    "version": 2
   },
   "file_extension": ".py",
   "mimetype": "text/x-python",
   "name": "python",
   "nbconvert_exporter": "python",
   "pygments_lexer": "ipython2",
   "version": "2.7.14"
  }
 },
 "nbformat": 4,
 "nbformat_minor": 2
}
